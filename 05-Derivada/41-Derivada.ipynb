{
 "cells": [
  {
   "cell_type": "markdown",
   "metadata": {},
   "source": [
    "# Derivada\n",
    "\n",
    "A derivada de uma função y = f(x) em um ponto x = x0, é igual ao valor da tangente trigonométrica do ângulo formado pela tangente geométrica à curva representativa de y=f(x), no ponto x = x0, ou seja, a derivada é o coeficiente angular da reta tangente ao gráfico da função no ponto x0.\n",
    "\n",
    "## Método *Forward* e *backward*\n",
    "\n",
    " <img src='Derivada_AvancarRetroceder.png' /></a>"
   ]
  },
  {
   "cell_type": "code",
   "execution_count": 5,
   "metadata": {},
   "outputs": [],
   "source": [
    "import numpy as np\n",
    "import pylab as plt"
   ]
  },
  {
   "cell_type": "markdown",
   "metadata": {},
   "source": [
    "### Exemplo:    $y = x^2 - 5x + 6$  "
   ]
  },
  {
   "cell_type": "code",
   "execution_count": 6,
   "metadata": {},
   "outputs": [],
   "source": [
    "y = lambda x: x**2 - 5*x + 6"
   ]
  },
  {
   "cell_type": "code",
   "execution_count": 7,
   "metadata": {},
   "outputs": [],
   "source": [
    "#Método Avancar\n",
    "\n",
    "def derivada_avancar(funcao, a, h=0.01):\n",
    "    return (funcao(a+h)-funcao(a))/h"
   ]
  },
  {
   "cell_type": "code",
   "execution_count": 8,
   "metadata": {},
   "outputs": [
    {
     "data": {
      "text/plain": [
       "-4.9900000000000055"
      ]
     },
     "execution_count": 8,
     "metadata": {},
     "output_type": "execute_result"
    }
   ],
   "source": [
    "derivada_avancar(y,0)"
   ]
  },
  {
   "cell_type": "code",
   "execution_count": 9,
   "metadata": {},
   "outputs": [],
   "source": [
    "#Método Retroceder\n",
    "\n",
    "def derivada_retroceder(funcao, a, h=0.01):\n",
    "    return (funcao(a)-funcao(a-h))/h"
   ]
  },
  {
   "cell_type": "code",
   "execution_count": 10,
   "metadata": {},
   "outputs": [
    {
     "data": {
      "text/plain": [
       "-5.009999999999959"
      ]
     },
     "execution_count": 10,
     "metadata": {},
     "output_type": "execute_result"
    }
   ],
   "source": [
    "derivada_retroceder(y,0)"
   ]
  },
  {
   "cell_type": "markdown",
   "metadata": {},
   "source": [
    "## Método Central\n",
    "\n",
    " <img src='Derivada_Central.png' /></a>"
   ]
  },
  {
   "cell_type": "code",
   "execution_count": 11,
   "metadata": {},
   "outputs": [],
   "source": [
    "#Método Central\n",
    "\n",
    "def derivada_central(funcao, a, h=0.01):\n",
    "    return (funcao(a+h)-funcao(a-h))/(2*h)"
   ]
  },
  {
   "cell_type": "code",
   "execution_count": 12,
   "metadata": {},
   "outputs": [
    {
     "data": {
      "text/plain": [
       "-4.999999999999982"
      ]
     },
     "execution_count": 12,
     "metadata": {},
     "output_type": "execute_result"
    }
   ],
   "source": [
    "derivada_central(y,0)"
   ]
  },
  {
   "cell_type": "markdown",
   "metadata": {},
   "source": [
    "## Gráfico da deriva da função $y = x^2 - 5x + 6$ : \n",
    "## $y ' = 2x - 5$  "
   ]
  },
  {
   "cell_type": "code",
   "execution_count": 13,
   "metadata": {},
   "outputs": [
    {
     "data": {
      "image/png": "[encoded data removed]",
      "text/plain": [
       "<Figure size 432x288 with 1 Axes>"
      ]
     },
     "metadata": {
      "needs_background": "light"
     },
     "output_type": "display_data"
    }
   ],
   "source": [
    "dy=np.empty(10)\n",
    "\n",
    "for i in range(0,10):\n",
    "    dy[i]=derivada_central(y,i)\n",
    "    plt.plot(i,dy[i],'ro')\n",
    "\n",
    "plt.title(\"y' = 2x - 5\")\n",
    "plt.show()\n"
   ]
  },
  {
   "cell_type": "markdown",
   "metadata": {},
   "source": [
    "## Derivada de dados\n",
    "\n",
    "Um exemplo típico é a função velocidade que representa a taxa de variação (derivada) da função espaço. Do mesmo modo, a função aceleração é a derivada da função velocidade."
   ]
  },
  {
   "cell_type": "code",
   "execution_count": 14,
   "metadata": {},
   "outputs": [],
   "source": [
    "import numpy as np\n",
    "import pylab as plt\n",
    "\n",
    "tempo,velocidade = np.loadtxt('velocities.txt',unpack=True)\n",
    "\n",
    "#aceleração = d(velocidade)/dt\n",
    "\n",
    "N = len(tempo)\n",
    "aceleracao = np.empty(N)\n",
    "\n",
    "# Métdodo Avançar\n",
    "aceleracao[0] = (velocidade[1]-velocidade[0])/(tempo[1]-tempo[0])\n",
    "\n",
    "# Método Central\n",
    "for i in range (1,N-1):\n",
    "    aceleracao[i] = (velocidade[i+1]-velocidade[i-1])/((tempo[i+1]-tempo[i-1])*2)\n",
    "\n",
    "# Método Retroceder\n",
    "aceleracao[N-1] = (velocidade[N-1]-velocidade[N-2])/(tempo[N-1]-tempo[N-2])"
   ]
  },
  {
   "cell_type": "markdown",
   "metadata": {},
   "source": [
    "## Gráfico dos dados"
   ]
  },
  {
   "cell_type": "code",
   "execution_count": 15,
   "metadata": {},
   "outputs": [
    {
     "data": {
      "image/png": "[encoded data removed]",
      "text/plain": [
       "<Figure size 432x288 with 1 Axes>"
      ]
     },
     "metadata": {
      "needs_background": "light"
     },
     "output_type": "display_data"
    }
   ],
   "source": [
    "plt.plot(tempo, velocidade, label = 'velocidade')\n",
    "plt.plot(tempo, aceleracao, label = 'aceleracao')\n",
    "plt.legend()\n",
    "plt.show()"
   ]
  },
  {
   "cell_type": "markdown",
   "metadata": {},
   "source": [
    "## Derivada de Segunda Ordem\n",
    "\n",
    "A derivada de segunda ordem de uma função é simplesmente a derivada da derivada da função.\n",
    "\n",
    " <img src='Derivada_Segunda.png' /></a>\n"
   ]
  },
  {
   "cell_type": "code",
   "execution_count": 16,
   "metadata": {},
   "outputs": [],
   "source": [
    "# Derivada de Segunda Ordem\n",
    "\n",
    "def derivada_segunda(funcao, a, h=0.01):\n",
    "    return (funcao(a+h)-2*funcao(a)+funcao(a-h))/(h**2)"
   ]
  },
  {
   "cell_type": "markdown",
   "metadata": {},
   "source": [
    "### Deriva de Segunda ordem da função $y = x^2 - 5x + 6$ : \n",
    "### $y ' = 2x - 5$\n",
    "### $y'' = 2$"
   ]
  },
  {
   "cell_type": "code",
   "execution_count": 17,
   "metadata": {},
   "outputs": [
    {
     "name": "stdout",
     "output_type": "stream",
     "text": [
      "1.9999999999953388\n"
     ]
    }
   ],
   "source": [
    "print(derivada_segunda(y,0))"
   ]
  },
  {
   "cell_type": "markdown",
   "metadata": {},
   "source": [
    "## Derivada Parcial\n",
    "\n",
    "Uma derivada parcial de uma função de várias variáveis é a sua derivada com respeito a uma daquelas variáveis, com as outras variáveis mantidas constantes. \n",
    "\n",
    " <img src='Derivada_parcial1.png' /></a>\n"
   ]
  },
  {
   "cell_type": "code",
   "execution_count": 18,
   "metadata": {},
   "outputs": [],
   "source": [
    "# Derivada Parcial\n",
    "\n",
    "def derivada_parcial(funcao,x,y, h=0.01):\n",
    "    return (funcao(x+h/2,y+h/2)-f(x-h/2,y+h/2)-f(x+h/2,y-h/2)+f(x-h/2,y-h/2))/(h**2)"
   ]
  },
  {
   "cell_type": "markdown",
   "metadata": {},
   "source": [
    "### Exemplo:\n",
    "\n",
    "### $f(x,y) = x * sen(y) $"
   ]
  },
  {
   "cell_type": "code",
   "execution_count": 19,
   "metadata": {},
   "outputs": [],
   "source": [
    "f = lambda x,y: x*np.sin(y)"
   ]
  },
  {
   "cell_type": "code",
   "execution_count": 21,
   "metadata": {},
   "outputs": [
    {
     "name": "stdout",
     "output_type": "stream",
     "text": [
      "0.7071038349337755\n"
     ]
    }
   ],
   "source": [
    "# Derivada com relação a y: x.cos*y)\n",
    "# Derivada com relação a x: sen(y)\n",
    "\n",
    "d_parcial = derivada_parcial(f,20,np.pi/4)\n",
    "\n",
    "print(d_parcial)"
   ]
  },
  {
   "cell_type": "code",
   "execution_count": null,
   "metadata": {},
   "outputs": [],
   "source": []
  }
 ],
 "metadata": {
  "kernelspec": {
   "display_name": "Python 3",
   "language": "python",
   "name": "python3"
  },
  "language_info": {
   "codemirror_mode": {
    "name": "ipython",
    "version": 3
   },
   "file_extension": ".py",
   "mimetype": "text/x-python",
   "name": "python",
   "nbconvert_exporter": "python",
   "pygments_lexer": "ipython3",
   "version": "3.7.3"
  }
 },
 "nbformat": 4,
 "nbformat_minor": 2
}
