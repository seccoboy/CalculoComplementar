{
 "cells": [
  {
   "cell_type": "code",
   "execution_count": 98,
   "metadata": {},
   "outputs": [
    {
     "name": "stdout",
     "output_type": "stream",
     "text": [
      "Analise Marginal: 2100\n",
      "Taxa de Variação: 2069\n"
     ]
    }
   ],
   "source": [
    "# Questão 1\n",
    "# f(x,y) = 1200x+ 500y+ (x**2) y – (x**3) – y\n",
    "# onde x é o número de operários especializados e y o número de operários não especializados utilizados no trabalho. No momento, a mão de obra disponível é constituída por 30 operários especializados e 60\n",
    "# operários não especializados. Use a análise marginal para estimar a variação da produção se mais 1 operário especializado for contratado e o número de operários não especializado permanecer constante.\n",
    "\n",
    "\n",
    "import numpy as np\n",
    "import pylab as plt\n",
    "import sympy as sp\n",
    "\n",
    "x_symbol, y_symbol, z_symbol = sp.symbols('x y z')\n",
    "\n",
    "f = 1200*x_symbol + 500*y_symbol + (x_symbol**2)*y_symbol - (x_symbol**3) - y_symbol**2\n",
    "\n",
    "derivada = sp.diff(f,x_symbol)\n",
    "\n",
    "z = lambda x, y: eval(str(derivada))\n",
    "\n",
    "print('Analise Marginal:', z(30,60))\n",
    "\n",
    "fx = lambda x, y: 1200*x + 500*y + (x**2)*y - (x**3) - y**2\n",
    "\n",
    "print('Taxa de Variação:', fx(30+1, 60) - fx(30,60))\n",
    "\n",
    "# \n",
    "# Para cada trabalhador qualificado aumenta a produção em 2069 unidades\n",
    "# "
   ]
  },
  {
   "cell_type": "code",
   "execution_count": 107,
   "metadata": {},
   "outputs": [
    {
     "name": "stdout",
     "output_type": "stream",
     "text": [
      "6800 - 800*x\n",
      "-400\n"
     ]
    }
   ],
   "source": [
    "# Questão 2\n",
    "\n",
    "import numpy as np\n",
    "import pylab as plt\n",
    "import sympy as sp\n",
    "x = sp.symbols('x')\n",
    "d = sp.diff(-(400*(x**2)) + (6800*x) - (12000), x)\n",
    "print(d)\n",
    "z = lambda x: eval(str(d))\n",
    "resp = z(9)  \n",
    "print(resp)\n",
    "\n",
    "# Com a inclinação sendo -400, significa que a inclinação é para baixo \n",
    "# Logo, para um nível de produção de 9000 unidades, o lucro diminui quando a produção aumenta"
   ]
  },
  {
   "cell_type": "code",
   "execution_count": 120,
   "metadata": {},
   "outputs": [
    {
     "name": "stdout",
     "output_type": "stream",
     "text": [
      "B)\n",
      "\n",
      "0.012961333555455532\n",
      "0.006782365086759479\n",
      "\n",
      "\n",
      "C)\n",
      "\n",
      "0.0004559273231530478\n"
     ]
    }
   ],
   "source": [
    "# Questão 3\n",
    "\n",
    "# S(W,H)= 0,0072W**0.425 * H**0.0725\n",
    "\n",
    "import numpy as np\n",
    "import pylab as plt\n",
    "import sympy as sp\n",
    "\n",
    "x, h, w = sp.symbols('x h w')\n",
    "\n",
    "f = lambda h,w: 0.0072*w**0.425 * h**0.0725\n",
    "#A) Peso = 34kg e Altura = 120cm, Encontrar a variação da área superficial\n",
    "#   Quando a criança engordar 1kg e a altura permanecer a mesma\n",
    "\n",
    "\n",
    "#B) \n",
    "print('B)\\n')\n",
    "\n",
    "fw = lambda w,h: (0.00306*w**(-0.575)) * h**0.725\n",
    "fh = lambda w,h: 0.00522*w**(0.425) * h**-(0.275)\n",
    "print(fw(50,163))\n",
    "print(fh(50,163))\n",
    "\n",
    "# C)\n",
    "\n",
    "f1 = lambda w,h: (0.0072*w**0.425) * (h**0.725)\n",
    "print('\\n\\nC)\\n')\n",
    "print(f1(35,1.20)-f1(34,1.20))"
   ]
  }
 ],
 "metadata": {
  "kernelspec": {
   "display_name": "Python 3",
   "language": "python",
   "name": "python3"
  },
  "language_info": {
   "codemirror_mode": {
    "name": "ipython",
    "version": 3
   },
   "file_extension": ".py",
   "mimetype": "text/x-python",
   "name": "python",
   "nbconvert_exporter": "python",
   "pygments_lexer": "ipython3",
   "version": "3.7.4"
  }
 },
 "nbformat": 4,
 "nbformat_minor": 2
}
